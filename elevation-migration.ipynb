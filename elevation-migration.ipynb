{
 "cells": [
  {
   "cell_type": "markdown",
   "id": "clear-musician",
   "metadata": {},
   "source": [
    "# Sea level rise and migration \n",
    "Introduction\n",
    "* Sea levels will rise in the future due to global warming \n",
    "* Many cities will be affected by this sea level rise\n",
    "* How will different cities be affected by sea level rise? How many people will have to move? \n",
    "\n",
    "What this project will do: \n",
    "* Pick out top 100 (?) most populous coastal cities (hopefully this will include cities in all continents, except for antartica) \n",
    "* Using elevation and population data, find out what percentage of land mass will go underwater, and how many people will have to migrate \n",
    "* Analyze (???) \n",
    "\n",
    "Caveats / limitations: \n",
    "* Rising sea levels doesn't automatically equal migration - some may choose to elevate or reinforce their homes against rising waters \n",
    "* For a more academically rigourous approach, see papers on migration prediction [here](https://royalsocietypublishing.org/doi/10.1098/rsta.2010.0291), and caveats of migration predictions [here]() and [here](). "
   ]
  },
  {
   "cell_type": "code",
   "execution_count": null,
   "id": "interstate-silly",
   "metadata": {},
   "outputs": [],
   "source": []
  }
 ],
 "metadata": {
  "kernelspec": {
   "display_name": "Python [conda env:root] *",
   "language": "python",
   "name": "conda-root-py"
  },
  "language_info": {
   "codemirror_mode": {
    "name": "ipython",
    "version": 3
   },
   "file_extension": ".py",
   "mimetype": "text/x-python",
   "name": "python",
   "nbconvert_exporter": "python",
   "pygments_lexer": "ipython3",
   "version": "3.8.5"
  }
 },
 "nbformat": 4,
 "nbformat_minor": 5
}
